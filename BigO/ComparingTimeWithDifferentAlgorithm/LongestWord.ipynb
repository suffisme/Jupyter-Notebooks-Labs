{
 "cells": [
  {
   "cell_type": "markdown",
   "metadata": {},
   "source": [
    "# Comparing Time With Different Approach in Python\n",
    "\n",
    "### Problem 1 : \n",
    "> A Large String is given and we need to find the longest word in that\n",
    "> We are using here five different methods to find the same result\n",
    "> 1. sort_and_print_by_list_comprehension\n",
    "> 2. sort_and_print_by_loop_and_equate \n",
    "> 3. using_min_function_list_comprehension\n",
    "> 4. using_min_function_loop_and_equate \n",
    "> 5. checking_each_word\n",
    "\n",
    "```\n",
    "Input Contents\n",
    "Sources : \n",
    "Problem 1 : Organic Chemistry by J Clayden\n",
    "```\n",
    "\n"
   ]
  },
  {
   "cell_type": "markdown",
   "metadata": {},
   "source": [
    "<hr>\n",
    "\n",
    "## Problem : Finding length of largest word in a given string"
   ]
  },
  {
   "cell_type": "code",
   "execution_count": 8,
   "metadata": {},
   "outputs": [
    {
     "name": "stdout",
     "output_type": "stream",
     "text": [
      "17\n",
      "17\n",
      "17\n",
      "17\n",
      "17\n",
      "[0.9713172912597656, 1.2631416320800781, 0.4878044128417969, 0.6918907165527344, 0.9977817535400391]\n"
     ]
    },
    {
     "data": {
      "image/png": "[encoded data removed]",
      "text/plain": [
       "<Figure size 432x288 with 1 Axes>"
      ]
     },
     "metadata": {
      "needs_background": "light"
     },
     "output_type": "display_data"
    },
    {
     "data": {
      "text/plain": [
       "<Figure size 1440x2160 with 0 Axes>"
      ]
     },
     "metadata": {},
     "output_type": "display_data"
    }
   ],
   "source": [
    "import matplotlib.pyplot as plt\n",
    "import time as t\n",
    "y1=[]\n",
    "x=['sort_and_print_by_list_comprehension','sort_and_print_by_loop_and_equate','using_min_function_list_comprehension','using_min_function_loop_and_equate','checking_each_word']\n",
    "#taking input\n",
    "s1='''You can’t learn all of organic chemistry—there’s just too much of it. You can learn trivial\n",
    "things like the names of compounds but that doesn’t help you understand the principles\n",
    "behind the subject. You have to understand the principles because the only way to tackle\n",
    "organic chemistry is to learn to work it out. That is why we have provided problems, which\n",
    "you can access from the book’s web site. They are to help you discover if you have understood\n",
    "the material presented in each chapter. If a chapter is about a certain type of organic reaction, say elimination reactions (Chapter\n",
    "19), the chapter itself will describe the various ways (‘mechanisms’) by which the reaction\n",
    "can occur and it will give defi nitive examples of each mechanism. In Chapter 19 there are\n",
    "three mechanisms and about 60 examples altogether. You might think that this is rather a\n",
    "lot but there are in fact millions of examples known of these three mechanisms and\n",
    "Chapter 19 barely scrapes the surface. The problems will help you make sure that your\n",
    "understanding is sound, and that it will stand up to exposure to the rigours of explaining\n",
    "real-life chemistry. In general, the 10–15 problems at the end of each chapter start easy and get more diffi -\n",
    "cult. They come in two or three sorts. The fi rst, generally shorter and easier, allow you to\n",
    "revise the material in that chapter. They might revisit examples from the chapter to check\n",
    "that you can use the ideas in familiar situations. The next few problems might develop\n",
    "specifi c ideas from different parts of the chapter, asking you, for example, why one compound\n",
    "reacts in one way while a similar one behaves quite differently. Finally, you will fi nd\n",
    "some more challenging problems asking you to extend the ideas to unfamiliar molecules,\n",
    "and, especially later in the book, to situations which draw on the material from more than\n",
    "one chapter. The end-of-chapter problems should set you on your way but they are not the end of the\n",
    "journey to understanding. You are probably reading this text as part of a university course and\n",
    "you should fi nd out what kind of examination problems your university uses and practise\n",
    "them too. Your tutor will be able to advise you on suitable problems to help you at each stage\n",
    "of your development.You are already a highly skilled organic chemist. As you read these words, your eyes are\n",
    "using an organic compound (retinal) to convert visible light into nerve impulses. When\n",
    "you picked up this book, your muscles were doing chemical reactions on sugars to give\n",
    "you the energy you needed. As you understand, gaps between your brain cells are being\n",
    "bridged by simple organic molecules (neurotransmitter amines) so that nerve impulses\n",
    "can be passed around your brain. And you did all that without consciously thinking\n",
    "about it. You do not yet understand these processes in your mind as well as you can\n",
    "carry them out in your brain and body. You are not alone there. No organic chemist,\n",
    "however brilliant, understands the detailed chemical working of the human mind or\n",
    "body very well. We, the authors, include ourselves in this generalization, but we are going to show you\n",
    "in this book what enormous strides have been taken in the understanding of organic\n",
    "chemistry since the science came into being in the early years of the nineteenth century.\n",
    "Organic chemistry began as a tentative attempt to understand the chemistry of life. It has\n",
    "grown into the confi dent basis of worldwide activities that feed, clothe, and cure millions\n",
    "of people without their even being aware of the role of chemistry in their lives. Chemists\n",
    "co operate with physicists and mathematicians to understand how molecules behave and\n",
    "with biologists to understand how interactions between molecules underlie all of life. The\n",
    "enlightenment brought by chemistry in the twentieth century amounted to a revolution\n",
    "in our understanding of the molecular world, but in these fi rst decades of the twenty-fi rst\n",
    "century the revolution is still far from complete. We aim not to give you the measurements\n",
    "of the skeleton of a dead science but to equip you to understand the confl icting\n",
    "demands of an adolescent one. Like all sciences, chemistry has a unique place in our pattern of understanding of the\n",
    "universe. It is the science of molecules. But organic chemistry is something more. It literally\n",
    "creates itself as it grows. Of course we need to study the molecules of nature both\n",
    "because they are interesting in their own right and because their functions are important\n",
    "to our lives. Organic chemistry has always been able to illuminate the mechanisms of life\n",
    "by making new molecules that give information not available from the molecules actually\n",
    "present in living things. This creation of new molecules has given us new materials such as plastics to make things\n",
    "with, new dyes to colour our clothes, new perfumes to wear, new drugs to cure diseases. Some\n",
    "people think some of these activities are unnatural and their products dangerous or unwholesome.\n",
    "But these new molecules are built by humans from other molecules found naturally on\n",
    "earth using the skills inherent in our natural brains. Birds build nests; people build houses.\n",
    "Which is unnatural? To the organic chemist this is a meaningless distinction. There are toxic\n",
    "compounds and nutritious ones, stable compounds and reactive ones—but there is only one\n",
    "type of chemistry: it goes on both inside our brains and bodies, and also in our fl asks and\n",
    "reactors, born from the ideas in our minds and the skill in our hands. We are not going to set\n",
    "ourselves up as moral judges in any way.'''.split()\n",
    "s2=s1[:]\n",
    "s3=s1[:]\n",
    "s4=s1[:]\n",
    "s5=s1[:]\n",
    "y1.append(t.time())\n",
    "\n",
    "#sort_and_print_list_comprehension\n",
    "A1=[len(i) for i in s1]\n",
    "A1.sort()\n",
    "print(A1[-1])\n",
    "y1.append(t.time())\n",
    "\n",
    "#sort_and_print_loop\n",
    "A2=[]\n",
    "for i in s1:\n",
    "    A2.append(len(i))\n",
    "A2.sort()\n",
    "print(A2[-1])\n",
    "y1.append(t.time())\n",
    "\n",
    "#using_min_function_comprehension\n",
    "A3=[len(i) for i in s1]\n",
    "print(max(A3))\n",
    "y1.append(t.time())\n",
    "\n",
    "#using_min_function_loop\n",
    "A4=[]\n",
    "for i in s1:\n",
    "    A4.append(len(i))\n",
    "print(max(A4))\n",
    "y1.append(t.time())\n",
    "#using each word\n",
    "l=0\n",
    "for i in s1:\n",
    "    if(l<len(i)):\n",
    "        l=len(i)\n",
    "print(l)\n",
    "y1.append(t.time())\n",
    "y=[]\n",
    "for i in range(len(y1)-1):\n",
    "    y.append(1000*(y1[i+1]-y1[i]))\n",
    "print(y)\n",
    "plt.bar(x,y)\n",
    "plt.xticks(rotation=90)\n",
    "plt.xlabel('Algorithm')\n",
    "plt.ylabel('Time in ms')\n",
    "plt.figure(figsize=(20,30))\n",
    "plt.show()"
   ]
  },
  {
   "cell_type": "markdown",
   "metadata": {},
   "source": [
    "<hr>\n",
    "\n",
    "## Problem (With Larger String)"
   ]
  },
  {
   "cell_type": "code",
   "execution_count": 67,
   "metadata": {},
   "outputs": [
    {
     "name": "stdout",
     "output_type": "stream",
     "text": [
      "17\n",
      "17\n",
      "17\n",
      "17\n",
      "17\n",
      "[0.5114078521728516, 3.5223960876464844, 0.4966259002685547, 1.1754035949707031, 0.6372928619384766]\n"
     ]
    },
    {
     "data": {
      "image/png": "[encoded data removed]",
      "text/plain": [
       "<Figure size 432x288 with 1 Axes>"
      ]
     },
     "metadata": {
      "needs_background": "light"
     },
     "output_type": "display_data"
    },
    {
     "data": {
      "text/plain": [
       "<Figure size 1440x2160 with 0 Axes>"
      ]
     },
     "metadata": {},
     "output_type": "display_data"
    }
   ],
   "source": [
    "import matplotlib.pyplot as plt\n",
    "import time as t\n",
    "y1=[]\n",
    "x=['sort_and_print_by_list_comprehension','sort_and_print_by_loop_and_equate','using_min_function_list_comprehension','using_min_function_loop_and_equate','checking_each_word']\n",
    "#taking input\n",
    "s1='''You can’t learn all of organic chemistry—there’s just too much of it. You can learn trivial\n",
    "things like the names of compounds but that doesn’t help you understand the principles\n",
    "behind the subject. You have to understand the principles because the only way to tackle\n",
    "organic chemistry is to learn to work it out. That is why we have provided problems, which\n",
    "you can access from the book’s web site. They are to help you discover if you have understood\n",
    "the material presented in each chapter. If a chapter is about a certain type of organic reaction, say elimination reactions (Chapter\n",
    "19), the chapter itself will describe the various ways (‘mechanisms’) by which the reaction\n",
    "can occur and it will give defi nitive examples of each mechanism. In Chapter 19 there are\n",
    "three mechanisms and about 60 examples altogether. You might think that this is rather a\n",
    "lot but there are in fact millions of examples known of these three mechanisms and\n",
    "Chapter 19 barely scrapes the surface. The problems will help you make sure that your\n",
    "understanding is sound, and that it will stand up to exposure to the rigours of explaining\n",
    "real-life chemistry. In general, the 10–15 problems at the end of each chapter start easy and get more diffi -\n",
    "cult. They come in two or three sorts. The fi rst, generally shorter and easier, allow you to\n",
    "revise the material in that chapter. They might revisit examples from the chapter to check\n",
    "that you can use the ideas in familiar situations. The next few problems might develop\n",
    "specifi c ideas from different parts of the chapter, asking you, for example, why one compound\n",
    "reacts in one way while a similar one behaves quite differently. Finally, you will fi nd\n",
    "some more challenging problems asking you to extend the ideas to unfamiliar molecules,\n",
    "and, especially later in the book, to situations which draw on the material from more than\n",
    "one chapter. The end-of-chapter problems should set you on your way but they are not the end of the\n",
    "journey to understanding. You are probably reading this text as part of a university course and\n",
    "you should fi nd out what kind of examination problems your university uses and practise\n",
    "them too. Your tutor will be able to advise you on suitable problems to help you at each stage\n",
    "of your development.You are already a highly skilled organic chemist. As you read these words, your eyes are\n",
    "using an organic compound (retinal) to convert visible light into nerve impulses. When\n",
    "you picked up this book, your muscles were doing chemical reactions on sugars to give\n",
    "you the energy you needed. As you understand, gaps between your brain cells are being\n",
    "bridged by simple organic molecules (neurotransmitter amines) so that nerve impulses\n",
    "can be passed around your brain. And you did all that without consciously thinking\n",
    "about it. You do not yet understand these processes in your mind as well as you can\n",
    "carry them out in your brain and body. You are not alone there. No organic chemist,\n",
    "however brilliant, understands the detailed chemical working of the human mind or\n",
    "body very well. We, the authors, include ourselves in this generalization, but we are going to show you\n",
    "in this book what enormous strides have been taken in the understanding of organic\n",
    "chemistry since the science came into being in the early years of the nineteenth century.\n",
    "Organic chemistry began as a tentative attempt to understand the chemistry of life. It has\n",
    "grown into the confi dent basis of worldwide activities that feed, clothe, and cure millions\n",
    "of people without their even being aware of the role of chemistry in their lives. Chemists\n",
    "co operate with physicists and mathematicians to understand how molecules behave and\n",
    "with biologists to understand how interactions between molecules underlie all of life. The\n",
    "enlightenment brought by chemistry in the twentieth century amounted to a revolution\n",
    "in our understanding of the molecular world, but in these fi rst decades of the twenty-fi rst\n",
    "century the revolution is still far from complete. We aim not to give you the measurements\n",
    "of the skeleton of a dead science but to equip you to understand the confl icting\n",
    "demands of an adolescent one. Like all sciences, chemistry has a unique place in our pattern of understanding of the\n",
    "universe. It is the science of molecules. But organic chemistry is something more. It literally\n",
    "creates itself as it grows. Of course we need to study the molecules of nature both\n",
    "because they are interesting in their own right and because their functions are important\n",
    "to our lives. Organic chemistry has always been able to illuminate the mechanisms of life\n",
    "by making new molecules that give information not available from the molecules actually\n",
    "present in living things. This creation of new molecules has given us new materials such as plastics to make things\n",
    "with, new dyes to colour our clothes, new perfumes to wear, new drugs to cure diseases. Some\n",
    "people think some of these activities are unnatural and their products dangerous or unwholesome.\n",
    "But these new molecules are built by humans from other molecules found naturally on\n",
    "earth using the skills inherent in our natural brains. Birds build nests; people build houses.\n",
    "Which is unnatural? To the organic chemist this is a meaningless distinction. There are toxic\n",
    "compounds and nutritious ones, stable compounds and reactive ones—but there is only one\n",
    "type of chemistry: it goes on both inside our brains and bodies, and also in our fl asks and\n",
    "reactors, born from the ideas in our minds and the skill in our hands. We are not going to set\n",
    "ourselves up as moral judges in any way.\n",
    "You can’t learn all of organic chemistry—there’s just too much of it. You can learn trivial\n",
    "things like the names of compounds but that doesn’t help you understand the principles\n",
    "behind the subject. You have to understand the principles because the only way to tackle\n",
    "organic chemistry is to learn to work it out. That is why we have provided problems, which\n",
    "you can access from the book’s web site. They are to help you discover if you have understood\n",
    "the material presented in each chapter. If a chapter is about a certain type of organic reaction, say elimination reactions (Chapter\n",
    "19), the chapter itself will describe the various ways (‘mechanisms’) by which the reaction\n",
    "can occur and it will give defi nitive examples of each mechanism. In Chapter 19 there are\n",
    "three mechanisms and about 60 examples altogether. You might think that this is rather a\n",
    "lot but there are in fact millions of examples known of these three mechanisms and\n",
    "Chapter 19 barely scrapes the surface. The problems will help you make sure that your\n",
    "understanding is sound, and that it will stand up to exposure to the rigours of explaining\n",
    "real-life chemistry. In general, the 10–15 problems at the end of each chapter start easy and get more diffi -\n",
    "cult. They come in two or three sorts. The fi rst, generally shorter and easier, allow you to\n",
    "revise the material in that chapter. They might revisit examples from the chapter to check\n",
    "that you can use the ideas in familiar situations. The next few problems might develop\n",
    "specifi c ideas from different parts of the chapter, asking you, for example, why one compound\n",
    "reacts in one way while a similar one behaves quite differently. Finally, you will fi nd\n",
    "some more challenging problems asking you to extend the ideas to unfamiliar molecules,\n",
    "and, especially later in the book, to situations which draw on the material from more than\n",
    "one chapter. The end-of-chapter problems should set you on your way but they are not the end of the\n",
    "journey to understanding. You are probably reading this text as part of a university course and\n",
    "you should fi nd out what kind of examination problems your university uses and practise\n",
    "them too. Your tutor will be able to advise you on suitable problems to help you at each stage\n",
    "of your development.You are already a highly skilled organic chemist. As you read these words, your eyes are\n",
    "using an organic compound (retinal) to convert visible light into nerve impulses. When\n",
    "you picked up this book, your muscles were doing chemical reactions on sugars to give\n",
    "you the energy you needed. As you understand, gaps between your brain cells are being\n",
    "bridged by simple organic molecules (neurotransmitter amines) so that nerve impulses\n",
    "can be passed around your brain. And you did all that without consciously thinking\n",
    "about it. You do not yet understand these processes in your mind as well as you can\n",
    "carry them out in your brain and body. You are not alone there. No organic chemist,\n",
    "however brilliant, understands the detailed chemical working of the human mind or\n",
    "body very well. We, the authors, include ourselves in this generalization, but we are going to show you\n",
    "in this book what enormous strides have been taken in the understanding of organic\n",
    "chemistry since the science came into being in the early years of the nineteenth century.\n",
    "Organic chemistry began as a tentative attempt to understand the chemistry of life. It has\n",
    "grown into the confi dent basis of worldwide activities that feed, clothe, and cure millions\n",
    "of people without their even being aware of the role of chemistry in their lives. Chemists\n",
    "co operate with physicists and mathematicians to understand how molecules behave and\n",
    "with biologists to understand how interactions between molecules underlie all of life. The\n",
    "enlightenment brought by chemistry in the twentieth century amounted to a revolution\n",
    "in our understanding of the molecular world, but in these fi rst decades of the twenty-fi rst\n",
    "century the revolution is still far from complete. We aim not to give you the measurements\n",
    "of the skeleton of a dead science but to equip you to understand the confl icting\n",
    "demands of an adolescent one. Like all sciences, chemistry has a unique place in our pattern of understanding of the\n",
    "universe. It is the science of molecules. But organic chemistry is something more. It literally\n",
    "creates itself as it grows. Of course we need to study the molecules of nature both\n",
    "because they are interesting in their own right and because their functions are important\n",
    "to our lives. Organic chemistry has always been able to illuminate the mechanisms of life\n",
    "by making new molecules that give information not available from the molecules actually\n",
    "present in living things. This creation of new molecules has given us new materials such as plastics to make things\n",
    "with, new dyes to colour our clothes, new perfumes to wear, new drugs to cure diseases. Some\n",
    "people think some of these activities are unnatural and their products dangerous or unwholesome.\n",
    "But these new molecules are built by humans from other molecules found naturally on\n",
    "earth using the skills inherent in our natural brains. Birds build nests; people build houses.\n",
    "Which is unnatural? To the organic chemist this is a meaningless distinction. There are toxic\n",
    "compounds and nutritious ones, stable compounds and reactive ones—but there is only one\n",
    "type of chemistry: it goes on both inside our brains and bodies, and also in our fl asks and\n",
    "reactors, born from the ideas in our minds and the skill in our hands. We are not going to set\n",
    "ourselves up as moral judges in any way.'''.split()\n",
    "s2=s1[:]\n",
    "s3=s1[:]\n",
    "s4=s1[:]\n",
    "s5=s1[:]\n",
    "y1.append(t.time())\n",
    "\n",
    "#sort_and_print_list_comprehension\n",
    "A1=[len(i) for i in s1]\n",
    "A1.sort()\n",
    "print(A1[-1])\n",
    "y1.append(t.time())\n",
    "\n",
    "#sort_and_print_loop\n",
    "A2=[]\n",
    "for i in s1:\n",
    "    A2.append(len(i))\n",
    "A2.sort()\n",
    "print(A2[-1])\n",
    "y1.append(t.time())\n",
    "\n",
    "#using_min_function_comprehension\n",
    "A3=[len(i) for i in s1]\n",
    "print(max(A3))\n",
    "y1.append(t.time())\n",
    "\n",
    "#using_min_function_loop\n",
    "A4=[]\n",
    "for i in s1:\n",
    "    A4.append(len(i))\n",
    "print(max(A4))\n",
    "y1.append(t.time())\n",
    "#using each word\n",
    "l=0\n",
    "for i in s1:\n",
    "    if(l<len(i)):\n",
    "        l=len(i)\n",
    "print(l)\n",
    "y1.append(t.time())\n",
    "y=[]\n",
    "for i in range(len(y1)-1):\n",
    "    y.append(1000*(y1[i+1]-y1[i]))\n",
    "print(y)\n",
    "plt.bar(x,y)\n",
    "plt.xticks(rotation=90)\n",
    "plt.xlabel('Algorithm')\n",
    "plt.ylabel('Time in ms')\n",
    "plt.figure(figsize=(20,30))\n",
    "plt.show()"
   ]
  },
  {
   "cell_type": "markdown",
   "metadata": {},
   "source": [
    "<hr>\n",
    "\n",
    "## Problem : With Short String"
   ]
  },
  {
   "cell_type": "code",
   "execution_count": 84,
   "metadata": {},
   "outputs": [
    {
     "name": "stdout",
     "output_type": "stream",
     "text": [
      "17\n",
      "17\n",
      "17\n",
      "17\n",
      "17\n",
      "[1.0178089141845703, 0.4754066467285156, 0.0, 0.5092620849609375, 0.3895759582519531]\n"
     ]
    },
    {
     "data": {
      "image/png": "[encoded data removed]",
      "text/plain": [
       "<Figure size 432x288 with 1 Axes>"
      ]
     },
     "metadata": {
      "needs_background": "light"
     },
     "output_type": "display_data"
    },
    {
     "data": {
      "text/plain": [
       "<Figure size 1440x2160 with 0 Axes>"
      ]
     },
     "metadata": {},
     "output_type": "display_data"
    }
   ],
   "source": [
    "import matplotlib.pyplot as plt\n",
    "import time as t\n",
    "y1=[]\n",
    "x=['sort_and_print_by_list_comprehension','sort_and_print_by_loop_and_equate','using_min_function_list_comprehension','using_min_function_loop_and_equate','checking_each_word']\n",
    "#taking input\n",
    "s1='''You can’t learn all of organic chemistry—there’s just too much of it. You can learn trivial\n",
    "things like the names of compounds but that doesn’t help you understand the principles\n",
    "behind the subject. You have to understand the principles because the only way to tackle\n",
    "organic chemistry is to learn to work it out'''.split()\n",
    "s2=s1[:]\n",
    "s3=s1[:]\n",
    "s4=s1[:]\n",
    "s5=s1[:]\n",
    "y1.append(t.time())\n",
    "\n",
    "#sort_and_print_list_comprehension\n",
    "A1=[len(i) for i in s1]\n",
    "A1.sort()\n",
    "print(A1[-1])\n",
    "y1.append(t.time())\n",
    "\n",
    "#sort_and_print_loop\n",
    "A2=[]\n",
    "for i in s1:\n",
    "    A2.append(len(i))\n",
    "A2.sort()\n",
    "print(A2[-1])\n",
    "y1.append(t.time())\n",
    "\n",
    "#using_min_function_comprehension\n",
    "A3=[len(i) for i in s1]\n",
    "print(max(A3))\n",
    "y1.append(t.time())\n",
    "\n",
    "#using_min_function_loop\n",
    "A4=[]\n",
    "for i in s1:\n",
    "    A4.append(len(i))\n",
    "print(max(A4))\n",
    "y1.append(t.time())\n",
    "#using each word\n",
    "l=0\n",
    "for i in s1:\n",
    "    if(l<len(i)):\n",
    "        l=len(i)\n",
    "print(l)\n",
    "y1.append(t.time())\n",
    "y=[]\n",
    "for i in range(len(y1)-1):\n",
    "    y.append(1000*(y1[i+1]-y1[i]))\n",
    "print(y)\n",
    "plt.bar(x,y)\n",
    "plt.xticks(rotation=90)\n",
    "plt.xlabel('Algorithm')\n",
    "plt.ylabel('Time in ms')\n",
    "plt.figure(figsize=(20,30))\n",
    "plt.show()"
   ]
  },
  {
   "cell_type": "markdown",
   "metadata": {},
   "source": [
    "<hr>\n",
    "\n",
    "## Problem : shortest string"
   ]
  },
  {
   "cell_type": "code",
   "execution_count": 85,
   "metadata": {},
   "outputs": [
    {
     "name": "stdout",
     "output_type": "stream",
     "text": [
      "7\n",
      "7\n",
      "7\n",
      "7\n",
      "7\n",
      "[2.2172927856445312, 0.0, 0.49757957458496094, 0.29397010803222656, 0.0]\n"
     ]
    },
    {
     "data": {
      "image/png": "[encoded data removed]",
      "text/plain": [
       "<Figure size 432x288 with 1 Axes>"
      ]
     },
     "metadata": {
      "needs_background": "light"
     },
     "output_type": "display_data"
    },
    {
     "data": {
      "text/plain": [
       "<Figure size 1440x2160 with 0 Axes>"
      ]
     },
     "metadata": {},
     "output_type": "display_data"
    }
   ],
   "source": [
    "import matplotlib.pyplot as plt\n",
    "import time as t\n",
    "y1=[]\n",
    "x=['sort_and_print_by_list_comprehension','sort_and_print_by_loop_and_equate','using_min_function_list_comprehension','using_min_function_loop_and_equate','checking_each_word']\n",
    "#taking input\n",
    "s1='''My Name is Sufiyan Ansari.'''.split()\n",
    "s2=s1[:]\n",
    "s3=s1[:]\n",
    "s4=s1[:]\n",
    "s5=s1[:]\n",
    "y1.append(t.time())\n",
    "\n",
    "#sort_and_print_list_comprehension\n",
    "A1=[len(i) for i in s1]\n",
    "A1.sort()\n",
    "print(A1[-1])\n",
    "y1.append(t.time())\n",
    "\n",
    "#sort_and_print_loop\n",
    "A2=[]\n",
    "for i in s1:\n",
    "    A2.append(len(i))\n",
    "A2.sort()\n",
    "print(A2[-1])\n",
    "y1.append(t.time())\n",
    "\n",
    "#using_min_function_comprehension\n",
    "A3=[len(i) for i in s1]\n",
    "print(max(A3))\n",
    "y1.append(t.time())\n",
    "\n",
    "#using_min_function_loop\n",
    "A4=[]\n",
    "for i in s1:\n",
    "    A4.append(len(i))\n",
    "print(max(A4))\n",
    "y1.append(t.time())\n",
    "#using each word\n",
    "l=0\n",
    "for i in s1:\n",
    "    if(l<len(i)):\n",
    "        l=len(i)\n",
    "print(l)\n",
    "y1.append(t.time())\n",
    "y=[]\n",
    "for i in range(len(y1)-1):\n",
    "    y.append(1000*(y1[i+1]-y1[i]))\n",
    "print(y)\n",
    "plt.bar(x,y)\n",
    "plt.xticks(rotation=90)\n",
    "plt.xlabel('Algorithm')\n",
    "plt.ylabel('Time in ms')\n",
    "plt.figure(figsize=(20,30))\n",
    "plt.show()"
   ]
  },
  {
   "cell_type": "markdown",
   "metadata": {},
   "source": [
    "<hr>\n",
    "\n",
    "## Problem : A sentence "
   ]
  },
  {
   "cell_type": "code",
   "execution_count": 57,
   "metadata": {},
   "outputs": [
    {
     "name": "stdout",
     "output_type": "stream",
     "text": [
      "10\n",
      "10\n",
      "10\n",
      "10\n",
      "10\n",
      "[0.484466552734375, 0.5486011505126953, 0.0, 0.5059242248535156, 0.0]\n"
     ]
    },
    {
     "data": {
      "image/png": "[encoded data removed]",
      "text/plain": [
       "<Figure size 432x288 with 1 Axes>"
      ]
     },
     "metadata": {
      "needs_background": "light"
     },
     "output_type": "display_data"
    },
    {
     "data": {
      "text/plain": [
       "<Figure size 1440x2160 with 0 Axes>"
      ]
     },
     "metadata": {},
     "output_type": "display_data"
    }
   ],
   "source": [
    "import matplotlib.pyplot as plt\n",
    "import time as t\n",
    "y1=[]\n",
    "x=['sort_and_print_by_list_comprehension','sort_and_print_by_loop_and_equate','using_min_function_list_comprehension','using_min_function_loop_and_equate','checking_each_word']\n",
    "#taking input\n",
    "s1='My Name is Sufiyan Ansari. I am a student of National Institute of Technology , Warngal.'.split()\n",
    "s2=s1[:]\n",
    "s3=s1[:]\n",
    "s4=s1[:]\n",
    "s5=s1[:]\n",
    "y1.append(t.time())\n",
    "\n",
    "#sort_and_print_list_comprehension\n",
    "A1=[len(i) for i in s1]\n",
    "A1.sort()\n",
    "print(A1[-1])\n",
    "y1.append(t.time())\n",
    "\n",
    "#sort_and_print_loop\n",
    "A2=[]\n",
    "for i in s1:\n",
    "    A2.append(len(i))\n",
    "A2.sort()\n",
    "print(A2[-1])\n",
    "y1.append(t.time())\n",
    "\n",
    "#using_min_function_comprehension\n",
    "A3=[len(i) for i in s1]\n",
    "print(max(A3))\n",
    "y1.append(t.time())\n",
    "\n",
    "#using_min_function_loop\n",
    "A4=[]\n",
    "for i in s1:\n",
    "    A4.append(len(i))\n",
    "print(max(A4))\n",
    "y1.append(t.time())\n",
    "#using each word\n",
    "l=0\n",
    "for i in s1:\n",
    "    if(l<len(i)):\n",
    "        l=len(i)\n",
    "print(l)\n",
    "y1.append(t.time())\n",
    "y=[]\n",
    "for i in range(len(y1)-1):\n",
    "    y.append(1000*(y1[i+1]-y1[i]))\n",
    "print(y)\n",
    "plt.bar(x,y)\n",
    "plt.xticks(rotation=90)\n",
    "plt.xlabel('Algorithm')\n",
    "plt.ylabel('Time in ms')\n",
    "plt.figure(figsize=(20,30))\n",
    "plt.show()"
   ]
  },
  {
   "cell_type": "markdown",
   "metadata": {},
   "source": [
    "<hr>\n",
    "\n",
    "## Problem : shortest string (again)"
   ]
  },
  {
   "cell_type": "code",
   "execution_count": 56,
   "metadata": {},
   "outputs": [
    {
     "name": "stdout",
     "output_type": "stream",
     "text": [
      "7\n",
      "7\n",
      "7\n",
      "7\n",
      "7\n",
      "[0.4985332489013672, 0.4112720489501953, 0.5033016204833984, 0.4086494445800781, 0.0]\n"
     ]
    },
    {
     "data": {
      "image/png": "[encoded data removed]",
      "text/plain": [
       "<Figure size 432x288 with 1 Axes>"
      ]
     },
     "metadata": {
      "needs_background": "light"
     },
     "output_type": "display_data"
    },
    {
     "data": {
      "text/plain": [
       "<Figure size 1440x2160 with 0 Axes>"
      ]
     },
     "metadata": {},
     "output_type": "display_data"
    }
   ],
   "source": [
    "import matplotlib.pyplot as plt\n",
    "import time as t\n",
    "y1=[]\n",
    "x=['sort_and_print_by_list_comprehension','sort_and_print_by_loop_and_equate','using_min_function_list_comprehension','using_min_function_loop_and_equate','checking_each_word']\n",
    "#taking input\n",
    "s1='My Name is Sufiyan Ansari.'.split()\n",
    "s2=s1[:]\n",
    "s3=s1[:]\n",
    "s4=s1[:]\n",
    "s5=s1[:]\n",
    "y1.append(t.time())\n",
    "\n",
    "#sort_and_print_list_comprehension\n",
    "A1=[len(i) for i in s1]\n",
    "A1.sort()\n",
    "print(A1[-1])\n",
    "y1.append(t.time())\n",
    "\n",
    "#sort_and_print_loop\n",
    "A2=[]\n",
    "for i in s1:\n",
    "    A2.append(len(i))\n",
    "A2.sort()\n",
    "print(A2[-1])\n",
    "y1.append(t.time())\n",
    "\n",
    "#using_min_function_comprehension\n",
    "A3=[len(i) for i in s1]\n",
    "print(max(A3))\n",
    "y1.append(t.time())\n",
    "\n",
    "#using_min_function_loop\n",
    "A4=[]\n",
    "for i in s1:\n",
    "    A4.append(len(i))\n",
    "print(max(A4))\n",
    "y1.append(t.time())\n",
    "#using each word\n",
    "l=0\n",
    "for i in s1:\n",
    "    if(l<len(i)):\n",
    "        l=len(i)\n",
    "print(l)\n",
    "y1.append(t.time())\n",
    "y=[]\n",
    "for i in range(len(y1)-1):\n",
    "    y.append(1000*(y1[i+1]-y1[i]))\n",
    "print(y)\n",
    "plt.bar(x,y)\n",
    "plt.xticks(rotation=90)\n",
    "plt.xlabel('Algorithm')\n",
    "plt.ylabel('Time in ms')\n",
    "plt.figure(figsize=(20,30))\n",
    "plt.show()"
   ]
  },
  {
   "cell_type": "markdown",
   "metadata": {},
   "source": [
    "# Conclusion:\n",
    "1. Depending upon the size of data, time required for each execution changes\n",
    "2. For same data, time fluctuates when executed multiple time (When Problem 1 is executed again)\n",
    "3. For shorter string, checking each word individually is better\n",
    "4. For bigger ones, ```sort_and_print_by_loop_and_equate``` algorithm is quite time consuming\n",
    "5. Sometimes, even shortest string have time for execution, while some time they just get executed in **No Time**\n",
    "\n",
    "> It can be said that, when you wish to check algorithm, you must perform it one the large data"
   ]
  },
  {
   "cell_type": "code",
   "execution_count": null,
   "metadata": {},
   "outputs": [],
   "source": []
  },
  {
   "cell_type": "code",
   "execution_count": null,
   "metadata": {},
   "outputs": [],
   "source": []
  }
 ],
 "metadata": {
  "kernelspec": {
   "display_name": "Python 3",
   "language": "python",
   "name": "python3"
  },
  "language_info": {
   "codemirror_mode": {
    "name": "ipython",
    "version": 3
   },
   "file_extension": ".py",
   "mimetype": "text/x-python",
   "name": "python",
   "nbconvert_exporter": "python",
   "pygments_lexer": "ipython3",
   "version": "3.7.4"
  }
 },
 "nbformat": 4,
 "nbformat_minor": 2
}
